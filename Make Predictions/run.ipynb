{
 "cells": [
  {
   "cell_type": "code",
   "execution_count": 116,
   "id": "2c3b55e5",
   "metadata": {},
   "outputs": [],
   "source": [
    "import tensorflow as tf\n",
    "import joblib\n",
    "from sklearn.preprocessing import StandardScaler,LabelEncoder,OneHotEncoder\n",
    "from sklearn.metrics import accuracy_score\n",
    "import numpy as np\n",
    "import pandas as pd"
   ]
  },
  {
   "cell_type": "code",
   "execution_count": 58,
   "id": "44fb9994",
   "metadata": {},
   "outputs": [],
   "source": [
    "rf = joblib.load('./random_forest.joblib')\n",
    "knn = joblib.load('./KNN.joblib')\n",
    "svm = joblib.load('./SVM.joblib')\n",
    "dTree = joblib.load('./DecisionTree.joblib')\n",
    "lm = joblib.load('./Logistic_Regression.joblib')\n",
    "ann = tf.keras.models.load_model('ANN_Model.h5')\n",
    "models = {'Logistic Regression':lm,'SVM':svm,'KNN':knn,'Decision Tree':dTree,'Random Forest': rf,'ANN':ann}\n",
    "labels = {0:'building windows (float processed)',1: 'building windows (non-float processed)',\n",
    "          2: 'vehicle windows (float processed)',3: 'containers',4: 'tableware',5: 'headlamps'}\n"
   ]
  },
  {
   "cell_type": "code",
   "execution_count": 139,
   "id": "916970fe",
   "metadata": {},
   "outputs": [
    {
     "name": "stdout",
     "output_type": "stream",
     "text": [
      "Provide glass data(separated by comma)[type `f frac` to score on a sample. q to quit]\n",
      "f 0.9\n",
      "Accuracy for Logistic Regression: 0.731\n",
      "Accuracy for SVM: 0.85\n",
      "Accuracy for KNN: 0.912\n",
      "Accuracy for Decision Tree: 0.756\n",
      "Accuracy for Random Forest: 0.922\n",
      "Accuracy for ANN: 0.896\n",
      "\n",
      "Provide glass data(separated by comma)[type `f frac` to score on a sample. q to quit]\n",
      "q\n",
      "Goodbye...\n"
     ]
    }
   ],
   "source": [
    "while True:\n",
    "    s = input(\"Provide glass data(separated by comma)[type `f frac` to score on a sample. q to quit]\\n\")\n",
    "    if s[0].lower() =='q':\n",
    "        print('Goodbye...')\n",
    "        break\n",
    "    elif s[0].lower() == 'f':\n",
    "        l = s.split(' ')\n",
    "        frac = float(l[1])\n",
    "        df = pd.read_csv('glass.data',header=None)\n",
    "        df = df.iloc[:,1:]\n",
    "        oh = OneHotEncoder()\n",
    "        oh.fit(np.array(df.iloc[:,-1]).reshape(-1,1))\n",
    "        df_sample = df.sample(frac=frac)\n",
    "        X,y = df_sample.iloc[:,:-1],df_sample.iloc[:,-1]\n",
    "        X_test = StandardScaler().fit_transform(X)\n",
    "        for name,model in models.items():\n",
    "            y_test = oh.transform(np.array(y).reshape(-1,1)) if name=='ANN' else LabelEncoder().fit_transform(y) \n",
    "            pred = model.predict(X_test)\n",
    "            if name=='ANN':\n",
    "                pred = np.argmax(pred,axis=1)\n",
    "                y_test = np.argmax(y_test,axis=1)\n",
    "            acc = accuracy_score(pred,y_test)\n",
    "            print(f\"Accuracy for {name}: {round(acc,3)}\")\n",
    "    else:\n",
    "        l = s.split(',')\n",
    "        x = []\n",
    "        for i in l:\n",
    "            x.append(float(i))\n",
    "        x_s = StandardScaler().fit_transform(np.array(x).reshape(-1,9))\n",
    "        print()\n",
    "        for name,model in models.items():\n",
    "            pred =np.argmax(model.predict(x_s)[0]) if name=='ANN' else model.predict(x_s)[0]\n",
    "            print(f\"{name}: {labels[pred]}\")\n",
    "    print()"
   ]
  }
 ],
 "metadata": {
  "kernelspec": {
   "display_name": "Python 3",
   "language": "python",
   "name": "python3"
  },
  "language_info": {
   "codemirror_mode": {
    "name": "ipython",
    "version": 3
   },
   "file_extension": ".py",
   "mimetype": "text/x-python",
   "name": "python",
   "nbconvert_exporter": "python",
   "pygments_lexer": "ipython3",
   "version": "3.8.8"
  }
 },
 "nbformat": 4,
 "nbformat_minor": 5
}
