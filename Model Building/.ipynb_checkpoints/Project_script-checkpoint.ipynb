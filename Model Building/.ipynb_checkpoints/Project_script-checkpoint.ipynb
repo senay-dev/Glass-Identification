{
 "cells": [
  {
   "cell_type": "code",
   "execution_count": 2,
   "id": "5836dafc",
   "metadata": {},
   "outputs": [],
   "source": [
    "import pandas as pd\n",
    "import numpy as np\n",
    "import matplotlib.pyplot as plt\n",
    "from sklearn.preprocessing import LabelEncoder\n",
    "from sklearn.preprocessing import StandardScaler\n",
    "from sklearn.model_selection import cross_val_score,StratifiedKFold,RepeatedStratifiedKFold\n",
    "from sklearn.linear_model import LogisticRegression\n",
    "from sklearn.svm import SVC\n",
    "from sklearn.neighbors import KNeighborsClassifier\n",
    "from sklearn.tree import DecisionTreeClassifier\n",
    "from sklearn.ensemble import RandomForestClassifier\n",
    "from imblearn.over_sampling import SMOTE,SMOTENC\n",
    "from sklearn.metrics import accuracy_score,confusion_matrix\n",
    "from sklearn.model_selection import GridSearchCV\n",
    "import warnings\n",
    "warnings.filterwarnings('ignore')"
   ]
  },
  {
   "cell_type": "code",
   "execution_count": 3,
   "id": "5859085d",
   "metadata": {
    "scrolled": true
   },
   "outputs": [
    {
     "data": {
      "text/html": [
       "<div>\n",
       "<style scoped>\n",
       "    .dataframe tbody tr th:only-of-type {\n",
       "        vertical-align: middle;\n",
       "    }\n",
       "\n",
       "    .dataframe tbody tr th {\n",
       "        vertical-align: top;\n",
       "    }\n",
       "\n",
       "    .dataframe thead th {\n",
       "        text-align: right;\n",
       "    }\n",
       "</style>\n",
       "<table border=\"1\" class=\"dataframe\">\n",
       "  <thead>\n",
       "    <tr style=\"text-align: right;\">\n",
       "      <th></th>\n",
       "      <th>RI</th>\n",
       "      <th>Na</th>\n",
       "      <th>Mg</th>\n",
       "      <th>Al</th>\n",
       "      <th>Si</th>\n",
       "      <th>K</th>\n",
       "      <th>Ca</th>\n",
       "      <th>Ba</th>\n",
       "      <th>Fe</th>\n",
       "      <th>Class</th>\n",
       "    </tr>\n",
       "  </thead>\n",
       "  <tbody>\n",
       "    <tr>\n",
       "      <th>0</th>\n",
       "      <td>1.52101</td>\n",
       "      <td>13.64</td>\n",
       "      <td>4.49</td>\n",
       "      <td>1.10</td>\n",
       "      <td>71.78</td>\n",
       "      <td>0.06</td>\n",
       "      <td>8.75</td>\n",
       "      <td>0.0</td>\n",
       "      <td>0.0</td>\n",
       "      <td>1</td>\n",
       "    </tr>\n",
       "    <tr>\n",
       "      <th>1</th>\n",
       "      <td>1.51761</td>\n",
       "      <td>13.89</td>\n",
       "      <td>3.60</td>\n",
       "      <td>1.36</td>\n",
       "      <td>72.73</td>\n",
       "      <td>0.48</td>\n",
       "      <td>7.83</td>\n",
       "      <td>0.0</td>\n",
       "      <td>0.0</td>\n",
       "      <td>1</td>\n",
       "    </tr>\n",
       "    <tr>\n",
       "      <th>2</th>\n",
       "      <td>1.51618</td>\n",
       "      <td>13.53</td>\n",
       "      <td>3.55</td>\n",
       "      <td>1.54</td>\n",
       "      <td>72.99</td>\n",
       "      <td>0.39</td>\n",
       "      <td>7.78</td>\n",
       "      <td>0.0</td>\n",
       "      <td>0.0</td>\n",
       "      <td>1</td>\n",
       "    </tr>\n",
       "    <tr>\n",
       "      <th>3</th>\n",
       "      <td>1.51766</td>\n",
       "      <td>13.21</td>\n",
       "      <td>3.69</td>\n",
       "      <td>1.29</td>\n",
       "      <td>72.61</td>\n",
       "      <td>0.57</td>\n",
       "      <td>8.22</td>\n",
       "      <td>0.0</td>\n",
       "      <td>0.0</td>\n",
       "      <td>1</td>\n",
       "    </tr>\n",
       "    <tr>\n",
       "      <th>4</th>\n",
       "      <td>1.51742</td>\n",
       "      <td>13.27</td>\n",
       "      <td>3.62</td>\n",
       "      <td>1.24</td>\n",
       "      <td>73.08</td>\n",
       "      <td>0.55</td>\n",
       "      <td>8.07</td>\n",
       "      <td>0.0</td>\n",
       "      <td>0.0</td>\n",
       "      <td>1</td>\n",
       "    </tr>\n",
       "  </tbody>\n",
       "</table>\n",
       "</div>"
      ],
      "text/plain": [
       "        RI     Na    Mg    Al     Si     K    Ca   Ba   Fe  Class\n",
       "0  1.52101  13.64  4.49  1.10  71.78  0.06  8.75  0.0  0.0      1\n",
       "1  1.51761  13.89  3.60  1.36  72.73  0.48  7.83  0.0  0.0      1\n",
       "2  1.51618  13.53  3.55  1.54  72.99  0.39  7.78  0.0  0.0      1\n",
       "3  1.51766  13.21  3.69  1.29  72.61  0.57  8.22  0.0  0.0      1\n",
       "4  1.51742  13.27  3.62  1.24  73.08  0.55  8.07  0.0  0.0      1"
      ]
     },
     "execution_count": 3,
     "metadata": {},
     "output_type": "execute_result"
    }
   ],
   "source": [
    "df = pd.read_csv('glass.data',header=None)\n",
    "df.columns = ['ID','RI','Na','Mg','Al','Si','K','Ca','Ba','Fe','Class']\n",
    "df = df.iloc[:,1:]\n",
    "print(df.head())"
   ]
  },
  {
   "cell_type": "code",
   "execution_count": 10,
   "id": "a3471900",
   "metadata": {},
   "outputs": [
    {
     "data": {
      "text/html": [
       "<div>\n",
       "<style scoped>\n",
       "    .dataframe tbody tr th:only-of-type {\n",
       "        vertical-align: middle;\n",
       "    }\n",
       "\n",
       "    .dataframe tbody tr th {\n",
       "        vertical-align: top;\n",
       "    }\n",
       "\n",
       "    .dataframe thead th {\n",
       "        text-align: right;\n",
       "    }\n",
       "</style>\n",
       "<table border=\"1\" class=\"dataframe\">\n",
       "  <thead>\n",
       "    <tr style=\"text-align: right;\">\n",
       "      <th></th>\n",
       "      <th>RI</th>\n",
       "      <th>Na</th>\n",
       "      <th>Mg</th>\n",
       "      <th>Al</th>\n",
       "      <th>Si</th>\n",
       "      <th>K</th>\n",
       "      <th>Ca</th>\n",
       "      <th>Ba</th>\n",
       "      <th>Fe</th>\n",
       "      <th>Class</th>\n",
       "    </tr>\n",
       "  </thead>\n",
       "  <tbody>\n",
       "    <tr>\n",
       "      <th>count</th>\n",
       "      <td>214.000000</td>\n",
       "      <td>214.000000</td>\n",
       "      <td>214.000000</td>\n",
       "      <td>214.000000</td>\n",
       "      <td>214.000000</td>\n",
       "      <td>214.000000</td>\n",
       "      <td>214.000000</td>\n",
       "      <td>214.000000</td>\n",
       "      <td>214.000000</td>\n",
       "      <td>214.000000</td>\n",
       "    </tr>\n",
       "    <tr>\n",
       "      <th>mean</th>\n",
       "      <td>1.518365</td>\n",
       "      <td>13.407850</td>\n",
       "      <td>2.684533</td>\n",
       "      <td>1.444907</td>\n",
       "      <td>72.650935</td>\n",
       "      <td>0.497056</td>\n",
       "      <td>8.956963</td>\n",
       "      <td>0.175047</td>\n",
       "      <td>0.057009</td>\n",
       "      <td>2.780374</td>\n",
       "    </tr>\n",
       "    <tr>\n",
       "      <th>std</th>\n",
       "      <td>0.003037</td>\n",
       "      <td>0.816604</td>\n",
       "      <td>1.442408</td>\n",
       "      <td>0.499270</td>\n",
       "      <td>0.774546</td>\n",
       "      <td>0.652192</td>\n",
       "      <td>1.423153</td>\n",
       "      <td>0.497219</td>\n",
       "      <td>0.097439</td>\n",
       "      <td>2.103739</td>\n",
       "    </tr>\n",
       "    <tr>\n",
       "      <th>min</th>\n",
       "      <td>1.511150</td>\n",
       "      <td>10.730000</td>\n",
       "      <td>0.000000</td>\n",
       "      <td>0.290000</td>\n",
       "      <td>69.810000</td>\n",
       "      <td>0.000000</td>\n",
       "      <td>5.430000</td>\n",
       "      <td>0.000000</td>\n",
       "      <td>0.000000</td>\n",
       "      <td>1.000000</td>\n",
       "    </tr>\n",
       "    <tr>\n",
       "      <th>25%</th>\n",
       "      <td>1.516523</td>\n",
       "      <td>12.907500</td>\n",
       "      <td>2.115000</td>\n",
       "      <td>1.190000</td>\n",
       "      <td>72.280000</td>\n",
       "      <td>0.122500</td>\n",
       "      <td>8.240000</td>\n",
       "      <td>0.000000</td>\n",
       "      <td>0.000000</td>\n",
       "      <td>1.000000</td>\n",
       "    </tr>\n",
       "    <tr>\n",
       "      <th>50%</th>\n",
       "      <td>1.517680</td>\n",
       "      <td>13.300000</td>\n",
       "      <td>3.480000</td>\n",
       "      <td>1.360000</td>\n",
       "      <td>72.790000</td>\n",
       "      <td>0.555000</td>\n",
       "      <td>8.600000</td>\n",
       "      <td>0.000000</td>\n",
       "      <td>0.000000</td>\n",
       "      <td>2.000000</td>\n",
       "    </tr>\n",
       "    <tr>\n",
       "      <th>75%</th>\n",
       "      <td>1.519157</td>\n",
       "      <td>13.825000</td>\n",
       "      <td>3.600000</td>\n",
       "      <td>1.630000</td>\n",
       "      <td>73.087500</td>\n",
       "      <td>0.610000</td>\n",
       "      <td>9.172500</td>\n",
       "      <td>0.000000</td>\n",
       "      <td>0.100000</td>\n",
       "      <td>3.000000</td>\n",
       "    </tr>\n",
       "    <tr>\n",
       "      <th>max</th>\n",
       "      <td>1.533930</td>\n",
       "      <td>17.380000</td>\n",
       "      <td>4.490000</td>\n",
       "      <td>3.500000</td>\n",
       "      <td>75.410000</td>\n",
       "      <td>6.210000</td>\n",
       "      <td>16.190000</td>\n",
       "      <td>3.150000</td>\n",
       "      <td>0.510000</td>\n",
       "      <td>7.000000</td>\n",
       "    </tr>\n",
       "  </tbody>\n",
       "</table>\n",
       "</div>"
      ],
      "text/plain": [
       "               RI          Na          Mg          Al          Si           K  \\\n",
       "count  214.000000  214.000000  214.000000  214.000000  214.000000  214.000000   \n",
       "mean     1.518365   13.407850    2.684533    1.444907   72.650935    0.497056   \n",
       "std      0.003037    0.816604    1.442408    0.499270    0.774546    0.652192   \n",
       "min      1.511150   10.730000    0.000000    0.290000   69.810000    0.000000   \n",
       "25%      1.516523   12.907500    2.115000    1.190000   72.280000    0.122500   \n",
       "50%      1.517680   13.300000    3.480000    1.360000   72.790000    0.555000   \n",
       "75%      1.519157   13.825000    3.600000    1.630000   73.087500    0.610000   \n",
       "max      1.533930   17.380000    4.490000    3.500000   75.410000    6.210000   \n",
       "\n",
       "               Ca          Ba          Fe       Class  \n",
       "count  214.000000  214.000000  214.000000  214.000000  \n",
       "mean     8.956963    0.175047    0.057009    2.780374  \n",
       "std      1.423153    0.497219    0.097439    2.103739  \n",
       "min      5.430000    0.000000    0.000000    1.000000  \n",
       "25%      8.240000    0.000000    0.000000    1.000000  \n",
       "50%      8.600000    0.000000    0.000000    2.000000  \n",
       "75%      9.172500    0.000000    0.100000    3.000000  \n",
       "max     16.190000    3.150000    0.510000    7.000000  "
      ]
     },
     "execution_count": 10,
     "metadata": {},
     "output_type": "execute_result"
    }
   ],
   "source": [
    "print(df.describe())"
   ]
  },
  {
   "cell_type": "markdown",
   "id": "ee668699",
   "metadata": {},
   "source": [
    "###### Class 1: building windows (float processed)\n",
    "###### Class 2: building windows (non-float processed)\n",
    "###### Class 3: vehicle windows (float processed)\n",
    "###### Class 4: vehicle windows (non-float processed) (0 samples in this data)\n",
    "###### Class 5: containers\n",
    "###### Class 6: tableware\n",
    "###### Class 7: headlamps"
   ]
  },
  {
   "cell_type": "code",
   "execution_count": 8,
   "id": "c054a84e",
   "metadata": {},
   "outputs": [
    {
     "data": {
      "text/plain": [
       "Class\n",
       "1    70\n",
       "2    76\n",
       "3    17\n",
       "5    13\n",
       "6     9\n",
       "7    29\n",
       "Name: RI, dtype: int64"
      ]
     },
     "execution_count": 8,
     "metadata": {},
     "output_type": "execute_result"
    }
   ],
   "source": [
    "class_info = df.groupby('Class').count().iloc[:,0]\n",
    "print(class_info)"
   ]
  },
  {
   "cell_type": "code",
   "execution_count": 31,
   "id": "2fbf7a03",
   "metadata": {},
   "outputs": [
    {
     "data": {
      "text/plain": [
       "(array([70., 76.,  0., 17.,  0.,  0., 13.,  0.,  9., 29.]),\n",
       " array([1. , 1.6, 2.2, 2.8, 3.4, 4. , 4.6, 5.2, 5.8, 6.4, 7. ]),\n",
       " <BarContainer object of 10 artists>)"
      ]
     },
     "execution_count": 31,
     "metadata": {},
     "output_type": "execute_result"
    },
    {
     "data": {
      "image/png": "[encoded data removed]",
      "text/plain": [
       "<Figure size 432x288 with 1 Axes>"
      ]
     },
     "metadata": {
      "needs_background": "light"
     },
     "output_type": "display_data"
    }
   ],
   "source": [
    "plt.hist(df['Class'])\n",
    "plt.show()"
   ]
  },
  {
   "cell_type": "markdown",
   "id": "5f2d77f7",
   "metadata": {},
   "source": [
    "#### The dataset can be divided into\n",
    "Window Glass: 163 samples\n",
    "\n",
    "non-window glass: 51 samples\n",
    "#### Or\n",
    "Float Glass: 87 samples\n",
    "\n",
    "non-float glass: 76 samples\n",
    "#### which is more balanced"
   ]
  },
  {
   "cell_type": "code",
   "execution_count": 34,
   "id": "cc4b623d",
   "metadata": {},
   "outputs": [
    {
     "name": "stdout",
     "output_type": "stream",
     "text": [
      "Class 1, Count:70, Percentage:32.71%\n",
      "Class 2, Count:76, Percentage:35.514%\n",
      "Class 3, Count:17, Percentage:7.944%\n",
      "Class 5, Count:13, Percentage:6.075%\n",
      "Class 6, Count:9, Percentage:4.206%\n",
      "Class 7, Count:29, Percentage:13.551%\n"
     ]
    }
   ],
   "source": [
    "for i in class_info.index:\n",
    "    c = class_info[i]\n",
    "    print(f'Class {i}, Count:{c}, Percentage:{round(c*100/214,3)}%')"
   ]
  },
  {
   "cell_type": "code",
   "execution_count": 42,
   "id": "20579932",
   "metadata": {},
   "outputs": [
    {
     "data": {
      "image/png": "[encoded data removed]",
      "text/plain": [
       "<Figure size 720x720 with 12 Axes>"
      ]
     },
     "metadata": {
      "needs_background": "light"
     },
     "output_type": "display_data"
    }
   ],
   "source": [
    "df.hist(figsize=(10,10))\n",
    "plt.show()"
   ]
  },
  {
   "cell_type": "code",
   "execution_count": 838,
   "id": "dc729684",
   "metadata": {},
   "outputs": [],
   "source": [
    "from sklearn.model_selection import train_test_split\n",
    "X = df.iloc[:,:-1].values\n",
    "Y = df.iloc[:,-1].values\n",
    "X_train,X_test, y_train,y_test = train_test_split(X,Y,test_size=0.33,stratify=Y,random_state=1)"
   ]
  },
  {
   "cell_type": "code",
   "execution_count": 839,
   "id": "17c5bff2",
   "metadata": {},
   "outputs": [
    {
     "name": "stdout",
     "output_type": "stream",
     "text": [
      "(143, 9) (143,)\n"
     ]
    }
   ],
   "source": [
    "ss=StandardScaler()\n",
    "le=LabelEncoder()\n",
    "X = ss.fit_transform(X_train)\n",
    "y = le.fit_transform(y_train)\n",
    "X_test = ss.transform(X_test)\n",
    "y_test = le.transform(y_test)\n",
    "print(\"X,y shape:\",X.shape,y.shape)"
   ]
  },
  {
   "cell_type": "code",
   "execution_count": 840,
   "id": "a4ef2d36",
   "metadata": {},
   "outputs": [],
   "source": [
    "def evaluate(X,y,estimator):\n",
    "    cv=RepeatedStratifiedKFold(n_splits=10,n_repeats=10)\n",
    "    score = cross_val_score(estimator,X,y,scoring='accuracy',cv=cv)\n",
    "    return score"
   ]
  },
  {
   "cell_type": "markdown",
   "id": "3d6aa859",
   "metadata": {},
   "source": [
    "### Baseline: 35% (Predicting class 2 for every sample)"
   ]
  },
  {
   "cell_type": "markdown",
   "id": "cbd1ec2e",
   "metadata": {},
   "source": [
    "### We'll now evaluate several models "
   ]
  },
  {
   "cell_type": "code",
   "execution_count": 841,
   "id": "71ee0773",
   "metadata": {},
   "outputs": [
    {
     "name": "stdout",
     "output_type": "stream",
     "text": [
      "Logistic Regression: 0.606\n",
      "SVM: 0.651\n",
      "KNN: 0.592\n",
      "Decision Tree: 0.668\n",
      "Random Forest: 0.752\n"
     ]
    }
   ],
   "source": [
    "lm = LogisticRegression(penalty='l2',solver='newton-cg')\n",
    "svm = SVC(gamma='auto')\n",
    "knn = KNeighborsClassifier()\n",
    "dTree = DecisionTreeClassifier(max_depth=100)\n",
    "weights = {0:1.0,1:1.0,2:2.0,3:2.0,4:2.0,5:2.0}\n",
    "rf = RandomForestClassifier(n_estimators=1000,class_weight=weights)\n",
    "\n",
    "models = {'Logistic Regression':lm,'SVM':svm,'KNN':knn,'Decision Tree':dTree,'Random Forest': rf}\n",
    "\n",
    "results = []\n",
    "print(\"Cross val average accuracy(without oversampling or hyperparameter tuning)\")\n",
    "for k,v in models.items():\n",
    "    result = evaluate(X,y,v)\n",
    "    results.append(result)\n",
    "    print(f'{k}: {round(np.mean(result),3)}')"
   ]
  },
  {
   "cell_type": "code",
   "execution_count": 842,
   "id": "773a01e7",
   "metadata": {},
   "outputs": [
    {
     "data": {
      "image/png": "[encoded data removed]",
      "text/plain": [
       "<Figure size 432x288 with 1 Axes>"
      ]
     },
     "metadata": {
      "needs_background": "light"
     },
     "output_type": "display_data"
    }
   ],
   "source": [
    "plt.boxplot(results,labels=models.keys(),showmeans=True)\n",
    "plt.show()"
   ]
  },
  {
   "cell_type": "markdown",
   "id": "dd886d20",
   "metadata": {},
   "source": [
    "#### Using SMOTE(Synthetic Minority Oversampling technique) Oversampling\n",
    "#### Let's take a look again on what the class ditribution looks like"
   ]
  },
  {
   "cell_type": "code",
   "execution_count": 843,
   "id": "d2cc7b09",
   "metadata": {},
   "outputs": [
    {
     "data": {
      "text/plain": [
       "<BarContainer object of 6 artists>"
      ]
     },
     "execution_count": 843,
     "metadata": {},
     "output_type": "execute_result"
    },
    {
     "data": {
      "image/png": "[encoded data removed]",
      "text/plain": [
       "<Figure size 432x288 with 1 Axes>"
      ]
     },
     "metadata": {
      "needs_background": "light"
     },
     "output_type": "display_data"
    }
   ],
   "source": [
    "plt.bar(np.unique(y),class_info)\n",
    "plt.show()"
   ]
  },
  {
   "cell_type": "markdown",
   "id": "3ec17e8d",
   "metadata": {},
   "source": [
    "#### Using SMOTE"
   ]
  },
  {
   "cell_type": "code",
   "execution_count": 844,
   "id": "ef75e2b8",
   "metadata": {},
   "outputs": [],
   "source": [
    "X,y = SMOTE(sampling_strategy = {0:200, 1:200, 2:200, 3:200, 4:200, 5:200}).fit_resample(X,y)"
   ]
  },
  {
   "cell_type": "code",
   "execution_count": 845,
   "id": "9715a493",
   "metadata": {},
   "outputs": [
    {
     "data": {
      "image/png": "[encoded data removed]",
      "text/plain": [
       "<Figure size 432x288 with 1 Axes>"
      ]
     },
     "metadata": {
      "needs_background": "light"
     },
     "output_type": "display_data"
    }
   ],
   "source": [
    "names,counts = np.unique(y,return_counts=True)\n",
    "plt.bar(names,counts)\n",
    "plt.show()"
   ]
  },
  {
   "cell_type": "markdown",
   "id": "5c7b1fff",
   "metadata": {},
   "source": [
    "#### Re-evaluate model on oversampled data"
   ]
  },
  {
   "cell_type": "code",
   "execution_count": 846,
   "id": "7a71cc1f",
   "metadata": {},
   "outputs": [
    {
     "name": "stdout",
     "output_type": "stream",
     "text": [
      "Logistic Regression: 0.882\n",
      "SVM: 0.927\n",
      "KNN: 0.956\n",
      "Decision Tree: 0.944\n",
      "Random Forest: 0.98\n"
     ]
    }
   ],
   "source": [
    "lm = LogisticRegression(penalty='l2',solver='newton-cg')\n",
    "svm = SVC(gamma='auto')\n",
    "knn = KNeighborsClassifier()\n",
    "dTree = DecisionTreeClassifier(max_depth=100)\n",
    "rf = RandomForestClassifier(n_estimators=1000,class_weight='balanced')\n",
    "\n",
    "models = {'Logistic Regression':lm,'SVM':svm,'KNN':knn,'Decision Tree':dTree,'Random Forest': rf}\n",
    "\n",
    "results = []\n",
    "print(\"Cross val average accuracy on oversampled data(without hyperparameter tuning)\")\n",
    "for k,v in models.items():\n",
    "    result = evaluate(X,y,v)\n",
    "    results.append(result)\n",
    "    print(f'{k}: {round(np.mean(result),3)}')"
   ]
  },
  {
   "cell_type": "code",
   "execution_count": 847,
   "id": "48140ac3",
   "metadata": {},
   "outputs": [
    {
     "data": {
      "image/png": "[encoded data removed]",
      "text/plain": [
       "<Figure size 432x288 with 1 Axes>"
      ]
     },
     "metadata": {
      "needs_background": "light"
     },
     "output_type": "display_data"
    }
   ],
   "source": [
    "plt.boxplot(results,labels=models.keys(),showmeans=True)\n",
    "plt.show()"
   ]
  },
  {
   "cell_type": "markdown",
   "id": "95ab126c",
   "metadata": {},
   "source": [
    "### Hyperparameter Tuning"
   ]
  },
  {
   "cell_type": "code",
   "execution_count": null,
   "id": "33cb6c9f",
   "metadata": {},
   "outputs": [],
   "source": [
    "print(\"Hyperparameter Tuning\")"
   ]
  },
  {
   "cell_type": "code",
   "execution_count": 848,
   "id": "9274857f",
   "metadata": {},
   "outputs": [
    {
     "name": "stdout",
     "output_type": "stream",
     "text": [
      "Best Result: 0.8991666666666667\n",
      "Best Param: {'C': 5.0, 'class_weight': 'balanced', 'multi_class': 'auto', 'penalty': 'l2', 'solver': 'newton-cg', 'tol': 0.0001}\n"
     ]
    }
   ],
   "source": [
    "params = {'penalty':('l1', 'l2'),'tol':[1e-4,1e-3],'C':[1.0,3.0,5.0],\n",
    "             'class_weight':('balanced',None),'solver':('newton-cg', 'lbfgs', 'liblinear'),'multi_class':('auto', 'ovr', 'multinomial')}\n",
    "clf = GridSearchCV(LogisticRegression(),params,cv=5,scoring='accuracy')\n",
    "clf.fit(X,y)\n",
    "lm_best = clf.best_estimator_\n",
    "print(\"Logistic Regresion:\")\n",
    "print('Best Result:',clf.best_score_)\n",
    "print('Best Param:',clf.best_params_)"
   ]
  },
  {
   "cell_type": "code",
   "execution_count": 849,
   "id": "b91a0f23",
   "metadata": {},
   "outputs": [
    {
     "name": "stdout",
     "output_type": "stream",
     "text": [
      "Best Result: 0.9816666666666667\n",
      "Best Param: {'algorithm': 'auto', 'n_neighbors': 1, 'p': 3, 'weights': 'uniform'}\n"
     ]
    }
   ],
   "source": [
    "from sklearn.model_selection import GridSearchCV\n",
    "params = {'n_neighbors':[1,2,3,4,5,6,7,8,9,10],'weights':('uniform','distance'),\n",
    "             'algorithm':('auto', 'ball_tree', 'kd_tree', 'brute'),\n",
    "         'p':[1,2,3,4]}\n",
    "clf = GridSearchCV(KNeighborsClassifier(),params,cv=5,scoring='accuracy')\n",
    "clf.fit(X,y)\n",
    "knn_best = clf.best_estimator_\n",
    "print(\"KNN\")\n",
    "print('Best Result:',clf.best_score_)\n",
    "print('Best Param:',clf.best_params_)"
   ]
  },
  {
   "cell_type": "code",
   "execution_count": 850,
   "id": "dcf05ca3",
   "metadata": {},
   "outputs": [
    {
     "name": "stdout",
     "output_type": "stream",
     "text": [
      "Best Result: 0.9533333333333334\n",
      "Best Param: {'C': 5.0, 'decision_function_shape': 'ovo', 'gamma': 'auto', 'kernel': 'rbf'}\n"
     ]
    }
   ],
   "source": [
    "params = {'C':[1.0,1.5,2.0,2.5,3.0,4.0,5.0],'kernel':('linear', 'poly', 'rbf', 'sigmoid'),\n",
    "             'gamma':('scale','auto'),'decision_function_shape':('ovo', 'ovr')}\n",
    "clf = GridSearchCV(SVC(),params,cv=5,scoring='accuracy')\n",
    "clf.fit(X,y)\n",
    "svm_best = clf.best_estimator_\n",
    "print(\"SVM\")\n",
    "print('Best Result:',clf.best_score_)\n",
    "print('Best Param:',clf.best_params_)"
   ]
  },
  {
   "cell_type": "code",
   "execution_count": 851,
   "id": "955bef02",
   "metadata": {},
   "outputs": [
    {
     "name": "stdout",
     "output_type": "stream",
     "text": [
      "Best Result: 0.9483333333333335\n",
      "Best Param: {'criterion': 'entropy', 'max_depth': 1000, 'max_features': None, 'min_samples_leaf': 1, 'min_samples_split': 2, 'splitter': 'best'}\n"
     ]
    }
   ],
   "source": [
    "params = {'criterion':('gini', 'entropy'),'splitter':('best', 'random'),'max_depth':[10,50,100,500,1000],\n",
    "          'min_samples_split':[1,2,5,10],'min_samples_leaf':[1,2,3,5],'max_features':('auto','sqrt','log2',None)}\n",
    "clf = GridSearchCV(DecisionTreeClassifier(),params,cv=5,scoring='accuracy')\n",
    "clf.fit(X,y)\n",
    "dTree_best = clf.best_estimator_\n",
    "print(\"Decision Tree\")\n",
    "print('Best Result:',clf.best_score_)\n",
    "print('Best Param:',clf.best_params_)"
   ]
  },
  {
   "cell_type": "code",
   "execution_count": 852,
   "id": "ab9e3dbf",
   "metadata": {},
   "outputs": [
    {
     "name": "stdout",
     "output_type": "stream",
     "text": [
      "Best Result: 0.9808333333333333\n",
      "Best Param: {'class_weight': None, 'max_depth': 1000, 'min_samples_leaf': 1, 'min_samples_split': 2, 'n_estimators': 100}\n"
     ]
    }
   ],
   "source": [
    "params = {'n_estimators':[1,10,100,1000],'max_depth':[1,10,100,1000],\n",
    "          'min_samples_split':[1,2],'min_samples_leaf':[1,2],\n",
    "         'class_weight':('balanced', 'balanced_subsample',None)}\n",
    "clf = GridSearchCV(RandomForestClassifier(),params,cv=5,scoring='accuracy')\n",
    "clf.fit(X,y)\n",
    "rf_best = clf.best_estimator_\n",
    "print(\"Random Forest\")\n",
    "print('Best Result:',clf.best_score_)\n",
    "print('Best Param:',clf.best_params_)"
   ]
  },
  {
   "cell_type": "code",
   "execution_count": 853,
   "id": "9caed150",
   "metadata": {},
   "outputs": [
    {
     "name": "stdout",
     "output_type": "stream",
     "text": [
      "Logistic Regression: 0.895\n",
      "SVM: 0.949\n",
      "KNN: 0.982\n",
      "Decision Tree: 0.95\n",
      "Random Forest: 0.978\n"
     ]
    }
   ],
   "source": [
    "models = {'Logistic Regression':lm_best,'SVM':svm_best,'KNN':knn_best,'Decision Tree':dTree_best,'Random Forest': rf_best}\n",
    "\n",
    "results = []\n",
    "print(\"Cross val average accuracy on oversampled data and hyperparameter tuned model\")\n",
    "for k,v in models.items():\n",
    "    result = evaluate(X,y,v)\n",
    "    results.append(result)\n",
    "    print(f'{k}: {round(np.mean(result),3)}')"
   ]
  },
  {
   "cell_type": "code",
   "execution_count": 854,
   "id": "fb15d198",
   "metadata": {},
   "outputs": [
    {
     "data": {
      "image/png": "[encoded data removed]",
      "text/plain": [
       "<Figure size 432x288 with 1 Axes>"
      ]
     },
     "metadata": {
      "needs_background": "light"
     },
     "output_type": "display_data"
    }
   ],
   "source": [
    "plt.boxplot(results,labels=models.keys(),showmeans=True)\n",
    "plt.show()"
   ]
  },
  {
   "cell_type": "code",
   "execution_count": 855,
   "id": "f77d7468",
   "metadata": {},
   "outputs": [
    {
     "name": "stdout",
     "output_type": "stream",
     "text": [
      "Logistic Regression: 0.69\n",
      "SVM: 0.775\n",
      "KNN: 0.746\n",
      "Decision Tree: 0.761\n",
      "Random Forest: 0.859\n"
     ]
    }
   ],
   "source": [
    "models = {'Logistic Regression':lm_best,'SVM':svm_best,'KNN':knn_best,'Decision Tree':dTree_best,'Random Forest': rf_best}\n",
    "results = []\n",
    "print(\"Test set accuracy\")\n",
    "for k,v in models.items():\n",
    "    v.fit(X,y)\n",
    "    y_pred = v.predict(X_test)\n",
    "    results.append(accuracy_score(y_test,y_pred))\n",
    "    print(f'{k}: {round(accuracy_score(y_test,y_pred),3)}')"
   ]
  },
  {
   "cell_type": "code",
   "execution_count": 856,
   "id": "5145d46b",
   "metadata": {},
   "outputs": [
    {
     "data": {
      "image/png": "[encoded data removed]",
      "text/plain": [
       "<Figure size 432x288 with 1 Axes>"
      ]
     },
     "metadata": {
      "needs_background": "light"
     },
     "output_type": "display_data"
    }
   ],
   "source": [
    "plt.bar(models.keys(),results)\n",
    "plt.show()"
   ]
  },
  {
   "cell_type": "markdown",
   "id": "af6c041a",
   "metadata": {},
   "source": [
    "### Neural Networks"
   ]
  },
  {
   "cell_type": "code",
   "execution_count": null,
   "id": "74b6574d",
   "metadata": {},
   "outputs": [],
   "source": [
    "print(\"Neural Network Training\")"
   ]
  },
  {
   "cell_type": "code",
   "execution_count": 857,
   "id": "7b73827b",
   "metadata": {},
   "outputs": [],
   "source": [
    "Y=y\n",
    "YY = np.zeros((len(Y) , 1))\n",
    "YY[:,0] = Y\n",
    "enc = OneHotEncoder(sparse = False , handle_unknown='error')\n",
    "enc.fit(YY)\n",
    "Y_transformed = enc.transform(YY)"
   ]
  },
  {
   "cell_type": "code",
   "execution_count": 892,
   "id": "a2c86c83",
   "metadata": {},
   "outputs": [],
   "source": [
    "from tensorflow.keras.layers import Dense,Dropout\n",
    "from tensorflow.keras import Sequential\n",
    "def Glass_Deep_Model(dropout_rate = 0.5 , activation='relu' , optimizer='adam',loss='binary_crossentropy'):\n",
    "    # create model\n",
    "    model = Sequential()\n",
    "    model.add(Dense(9, input_dim=9, activation=activation))\n",
    "    #model.add(Dense(1024, activation=activation))\n",
    "    #model.add(Dropout(dropout_rate))\n",
    "    model.add(Dense(512,  activation=activation))\n",
    "    model.add(Dropout(dropout_rate))\n",
    "    model.add(Dense(256,  activation=activation))\n",
    "    model.add(Dropout(dropout_rate))\n",
    "    model.add(Dense(6,  activation=\"softmax\"))\n",
    "    model.compile(loss=loss, optimizer=optimizer, metrics=['accuracy'])\n",
    "    return model"
   ]
  },
  {
   "cell_type": "code",
   "execution_count": 893,
   "id": "6a7dc9e2",
   "metadata": {},
   "outputs": [],
   "source": [
    "from keras.wrappers.scikit_learn import KerasClassifier\n",
    "Final_Model = KerasClassifier(build_fn=Glass_Deep_Model, verbose=0)"
   ]
  },
  {
   "cell_type": "code",
   "execution_count": 894,
   "id": "c08992c7",
   "metadata": {},
   "outputs": [
    {
     "name": "stdout",
     "output_type": "stream",
     "text": [
      "Epoch 1/100\n",
      "51/51 [==============================] - 1s 8ms/step - loss: 0.4301 - accuracy: 0.4122 - val_loss: 0.7350 - val_accuracy: 0.0554\n",
      "Epoch 2/100\n",
      "51/51 [==============================] - 0s 5ms/step - loss: 0.3076 - accuracy: 0.5131 - val_loss: 0.5839 - val_accuracy: 0.0579\n",
      "Epoch 3/100\n",
      "51/51 [==============================] - 0s 7ms/step - loss: 0.2818 - accuracy: 0.5841 - val_loss: 0.5186 - val_accuracy: 0.3854\n",
      "Epoch 4/100\n",
      "51/51 [==============================] - 0s 5ms/step - loss: 0.2651 - accuracy: 0.6015 - val_loss: 0.4683 - val_accuracy: 0.4181\n",
      "Epoch 5/100\n",
      "51/51 [==============================] - 0s 5ms/step - loss: 0.2559 - accuracy: 0.6600 - val_loss: 0.4206 - val_accuracy: 0.4282\n",
      "Epoch 6/100\n",
      "51/51 [==============================] - 0s 5ms/step - loss: 0.2383 - accuracy: 0.6476 - val_loss: 0.3776 - val_accuracy: 0.4458\n",
      "Epoch 7/100\n",
      "51/51 [==============================] - 0s 6ms/step - loss: 0.2198 - accuracy: 0.6974 - val_loss: 0.3817 - val_accuracy: 0.4484\n",
      "Epoch 8/100\n",
      "51/51 [==============================] - 0s 7ms/step - loss: 0.2080 - accuracy: 0.7086 - val_loss: 0.3572 - val_accuracy: 0.4584\n",
      "Epoch 9/100\n",
      "51/51 [==============================] - 0s 6ms/step - loss: 0.1906 - accuracy: 0.7547 - val_loss: 0.3494 - val_accuracy: 0.4534\n",
      "Epoch 10/100\n",
      "51/51 [==============================] - 0s 5ms/step - loss: 0.1727 - accuracy: 0.7846 - val_loss: 0.3382 - val_accuracy: 0.4635\n",
      "Epoch 11/100\n",
      "51/51 [==============================] - 0s 5ms/step - loss: 0.1612 - accuracy: 0.8020 - val_loss: 0.3047 - val_accuracy: 0.4786\n",
      "Epoch 12/100\n",
      "51/51 [==============================] - 0s 6ms/step - loss: 0.1484 - accuracy: 0.8319 - val_loss: 0.3187 - val_accuracy: 0.4811\n",
      "Epoch 13/100\n",
      "51/51 [==============================] - 0s 6ms/step - loss: 0.1366 - accuracy: 0.8493 - val_loss: 0.2891 - val_accuracy: 0.4887\n",
      "Epoch 14/100\n",
      "51/51 [==============================] - 0s 5ms/step - loss: 0.1246 - accuracy: 0.8630 - val_loss: 0.2835 - val_accuracy: 0.4937\n",
      "Epoch 15/100\n",
      "51/51 [==============================] - 0s 5ms/step - loss: 0.1281 - accuracy: 0.8568 - val_loss: 0.2732 - val_accuracy: 0.4811\n",
      "Epoch 16/100\n",
      "51/51 [==============================] - 0s 7ms/step - loss: 0.1108 - accuracy: 0.8780 - val_loss: 0.2520 - val_accuracy: 0.5718\n",
      "Epoch 17/100\n",
      "51/51 [==============================] - 0s 6ms/step - loss: 0.1079 - accuracy: 0.8817 - val_loss: 0.2498 - val_accuracy: 0.5516\n",
      "Epoch 18/100\n",
      "51/51 [==============================] - 0s 5ms/step - loss: 0.0972 - accuracy: 0.8941 - val_loss: 0.2797 - val_accuracy: 0.5189\n",
      "Epoch 19/100\n",
      "51/51 [==============================] - 0s 7ms/step - loss: 0.1039 - accuracy: 0.8867 - val_loss: 0.2556 - val_accuracy: 0.5617\n",
      "Epoch 20/100\n",
      "51/51 [==============================] - 0s 5ms/step - loss: 0.0949 - accuracy: 0.8941 - val_loss: 0.2425 - val_accuracy: 0.6297\n",
      "Epoch 21/100\n",
      "51/51 [==============================] - 0s 5ms/step - loss: 0.0968 - accuracy: 0.8892 - val_loss: 0.2209 - val_accuracy: 0.6549\n",
      "Epoch 22/100\n",
      "51/51 [==============================] - 0s 4ms/step - loss: 0.0887 - accuracy: 0.8954 - val_loss: 0.2252 - val_accuracy: 0.6373\n",
      "Epoch 23/100\n",
      "51/51 [==============================] - 0s 4ms/step - loss: 0.0881 - accuracy: 0.9078 - val_loss: 0.2208 - val_accuracy: 0.6474\n",
      "Epoch 24/100\n",
      "51/51 [==============================] - 0s 5ms/step - loss: 0.0902 - accuracy: 0.8991 - val_loss: 0.1823 - val_accuracy: 0.6927\n",
      "Epoch 25/100\n",
      "51/51 [==============================] - 0s 4ms/step - loss: 0.0844 - accuracy: 0.9054 - val_loss: 0.1664 - val_accuracy: 0.7380\n",
      "Epoch 26/100\n",
      "51/51 [==============================] - 0s 5ms/step - loss: 0.0806 - accuracy: 0.9041 - val_loss: 0.1695 - val_accuracy: 0.7229\n",
      "Epoch 27/100\n",
      "51/51 [==============================] - 0s 4ms/step - loss: 0.0815 - accuracy: 0.9078 - val_loss: 0.1519 - val_accuracy: 0.7557\n",
      "Epoch 28/100\n",
      "51/51 [==============================] - 0s 4ms/step - loss: 0.0761 - accuracy: 0.9166 - val_loss: 0.1445 - val_accuracy: 0.7733\n",
      "Epoch 29/100\n",
      "51/51 [==============================] - 0s 4ms/step - loss: 0.0798 - accuracy: 0.9128 - val_loss: 0.1330 - val_accuracy: 0.8035\n",
      "Epoch 30/100\n",
      "51/51 [==============================] - 0s 4ms/step - loss: 0.0726 - accuracy: 0.9240 - val_loss: 0.1173 - val_accuracy: 0.8715\n",
      "Epoch 31/100\n",
      "51/51 [==============================] - 0s 4ms/step - loss: 0.0729 - accuracy: 0.9228 - val_loss: 0.1414 - val_accuracy: 0.8035\n",
      "Epoch 32/100\n",
      "51/51 [==============================] - 0s 6ms/step - loss: 0.0713 - accuracy: 0.9240 - val_loss: 0.1221 - val_accuracy: 0.8363\n",
      "Epoch 33/100\n",
      "51/51 [==============================] - 0s 5ms/step - loss: 0.0661 - accuracy: 0.9265 - val_loss: 0.1235 - val_accuracy: 0.8237\n",
      "Epoch 34/100\n",
      "51/51 [==============================] - 0s 4ms/step - loss: 0.0759 - accuracy: 0.9166 - val_loss: 0.1079 - val_accuracy: 0.8715\n",
      "Epoch 35/100\n",
      "51/51 [==============================] - 0s 4ms/step - loss: 0.0710 - accuracy: 0.9265 - val_loss: 0.1180 - val_accuracy: 0.8438\n",
      "Epoch 36/100\n",
      "51/51 [==============================] - 0s 5ms/step - loss: 0.0675 - accuracy: 0.9265 - val_loss: 0.0954 - val_accuracy: 0.9144\n",
      "Epoch 37/100\n",
      "51/51 [==============================] - 0s 4ms/step - loss: 0.0654 - accuracy: 0.9278 - val_loss: 0.1069 - val_accuracy: 0.8615\n",
      "Epoch 38/100\n",
      "51/51 [==============================] - 0s 4ms/step - loss: 0.0624 - accuracy: 0.9340 - val_loss: 0.1089 - val_accuracy: 0.8489\n",
      "Epoch 39/100\n",
      "51/51 [==============================] - 0s 4ms/step - loss: 0.0605 - accuracy: 0.9415 - val_loss: 0.0896 - val_accuracy: 0.8992\n",
      "Epoch 40/100\n",
      "51/51 [==============================] - 0s 4ms/step - loss: 0.0604 - accuracy: 0.9365 - val_loss: 0.0873 - val_accuracy: 0.9043\n",
      "Epoch 41/100\n",
      "51/51 [==============================] - 0s 4ms/step - loss: 0.0585 - accuracy: 0.9340 - val_loss: 0.0760 - val_accuracy: 0.9370\n",
      "Epoch 42/100\n",
      "51/51 [==============================] - 0s 4ms/step - loss: 0.0581 - accuracy: 0.9440 - val_loss: 0.0696 - val_accuracy: 0.9395\n",
      "Epoch 43/100\n",
      "51/51 [==============================] - 0s 5ms/step - loss: 0.0554 - accuracy: 0.9390 - val_loss: 0.0712 - val_accuracy: 0.9320\n",
      "Epoch 44/100\n",
      "51/51 [==============================] - 0s 4ms/step - loss: 0.0497 - accuracy: 0.9552 - val_loss: 0.0637 - val_accuracy: 0.9471\n",
      "Epoch 45/100\n",
      "51/51 [==============================] - 0s 7ms/step - loss: 0.0551 - accuracy: 0.9514 - val_loss: 0.0667 - val_accuracy: 0.9446\n",
      "Epoch 46/100\n",
      "51/51 [==============================] - 0s 5ms/step - loss: 0.0585 - accuracy: 0.9477 - val_loss: 0.0623 - val_accuracy: 0.9471\n",
      "Epoch 47/100\n",
      "51/51 [==============================] - 0s 5ms/step - loss: 0.0549 - accuracy: 0.9502 - val_loss: 0.0765 - val_accuracy: 0.8942\n",
      "Epoch 48/100\n",
      "51/51 [==============================] - 0s 5ms/step - loss: 0.0521 - accuracy: 0.9415 - val_loss: 0.0554 - val_accuracy: 0.9572\n",
      "Epoch 49/100\n",
      "51/51 [==============================] - 0s 5ms/step - loss: 0.0481 - accuracy: 0.9552 - val_loss: 0.0584 - val_accuracy: 0.9471\n",
      "Epoch 50/100\n",
      "51/51 [==============================] - 0s 8ms/step - loss: 0.0523 - accuracy: 0.9502 - val_loss: 0.0609 - val_accuracy: 0.9471\n",
      "Epoch 51/100\n",
      "51/51 [==============================] - 0s 6ms/step - loss: 0.0476 - accuracy: 0.9564 - val_loss: 0.0498 - val_accuracy: 0.9673\n",
      "Epoch 52/100\n",
      "51/51 [==============================] - 0s 6ms/step - loss: 0.0535 - accuracy: 0.9539 - val_loss: 0.0507 - val_accuracy: 0.9572\n",
      "Epoch 53/100\n",
      "51/51 [==============================] - 0s 6ms/step - loss: 0.0459 - accuracy: 0.9539 - val_loss: 0.0526 - val_accuracy: 0.9446\n",
      "Epoch 54/100\n",
      "51/51 [==============================] - 0s 4ms/step - loss: 0.0518 - accuracy: 0.9402 - val_loss: 0.0458 - val_accuracy: 0.9647\n",
      "Epoch 55/100\n",
      "51/51 [==============================] - 0s 4ms/step - loss: 0.0486 - accuracy: 0.9552 - val_loss: 0.0446 - val_accuracy: 0.9723\n",
      "Epoch 56/100\n",
      "51/51 [==============================] - 0s 4ms/step - loss: 0.0471 - accuracy: 0.9477 - val_loss: 0.0533 - val_accuracy: 0.9521\n",
      "Epoch 57/100\n",
      "51/51 [==============================] - 0s 4ms/step - loss: 0.0525 - accuracy: 0.9527 - val_loss: 0.0544 - val_accuracy: 0.9572\n",
      "Epoch 58/100\n",
      "51/51 [==============================] - 0s 5ms/step - loss: 0.0415 - accuracy: 0.9589 - val_loss: 0.0479 - val_accuracy: 0.9622\n",
      "Epoch 59/100\n",
      "51/51 [==============================] - 0s 4ms/step - loss: 0.0418 - accuracy: 0.9589 - val_loss: 0.0466 - val_accuracy: 0.9647\n",
      "Epoch 60/100\n",
      "51/51 [==============================] - 0s 5ms/step - loss: 0.0396 - accuracy: 0.9626 - val_loss: 0.0562 - val_accuracy: 0.9496\n",
      "Epoch 61/100\n",
      "51/51 [==============================] - 0s 4ms/step - loss: 0.0363 - accuracy: 0.9639 - val_loss: 0.0505 - val_accuracy: 0.9496\n",
      "Epoch 62/100\n",
      "51/51 [==============================] - ETA: 0s - loss: 0.0411 - accuracy: 0.96 - 0s 5ms/step - loss: 0.0420 - accuracy: 0.9614 - val_loss: 0.0412 - val_accuracy: 0.9748\n",
      "Epoch 63/100\n",
      "51/51 [==============================] - 0s 5ms/step - loss: 0.0435 - accuracy: 0.9564 - val_loss: 0.0393 - val_accuracy: 0.9748\n",
      "Epoch 64/100\n",
      "51/51 [==============================] - 0s 5ms/step - loss: 0.0467 - accuracy: 0.9564 - val_loss: 0.0396 - val_accuracy: 0.9723\n",
      "Epoch 65/100\n",
      "51/51 [==============================] - 0s 5ms/step - loss: 0.0362 - accuracy: 0.9664 - val_loss: 0.0478 - val_accuracy: 0.9496\n",
      "Epoch 66/100\n",
      "51/51 [==============================] - 0s 4ms/step - loss: 0.0384 - accuracy: 0.9539 - val_loss: 0.0433 - val_accuracy: 0.9647\n",
      "Epoch 67/100\n",
      "51/51 [==============================] - 0s 5ms/step - loss: 0.0347 - accuracy: 0.9689 - val_loss: 0.0438 - val_accuracy: 0.9622\n",
      "Epoch 68/100\n",
      "51/51 [==============================] - 0s 5ms/step - loss: 0.0364 - accuracy: 0.9589 - val_loss: 0.0368 - val_accuracy: 0.9698\n",
      "Epoch 69/100\n",
      "51/51 [==============================] - 0s 5ms/step - loss: 0.0365 - accuracy: 0.9601 - val_loss: 0.0431 - val_accuracy: 0.9647\n",
      "Epoch 70/100\n",
      "51/51 [==============================] - 0s 5ms/step - loss: 0.0378 - accuracy: 0.9676 - val_loss: 0.0390 - val_accuracy: 0.9647\n",
      "Epoch 71/100\n",
      "51/51 [==============================] - 0s 5ms/step - loss: 0.0373 - accuracy: 0.9664 - val_loss: 0.0357 - val_accuracy: 0.9723\n",
      "Epoch 72/100\n",
      "51/51 [==============================] - 0s 5ms/step - loss: 0.0356 - accuracy: 0.9651 - val_loss: 0.0375 - val_accuracy: 0.9572\n",
      "Epoch 73/100\n",
      "51/51 [==============================] - 0s 4ms/step - loss: 0.0354 - accuracy: 0.9651 - val_loss: 0.0395 - val_accuracy: 0.9673\n",
      "Epoch 74/100\n",
      "51/51 [==============================] - 0s 5ms/step - loss: 0.0345 - accuracy: 0.9614 - val_loss: 0.0293 - val_accuracy: 0.9773\n",
      "Epoch 75/100\n",
      "51/51 [==============================] - 0s 4ms/step - loss: 0.0386 - accuracy: 0.9564 - val_loss: 0.0335 - val_accuracy: 0.9748\n",
      "Epoch 76/100\n",
      "51/51 [==============================] - 0s 5ms/step - loss: 0.0320 - accuracy: 0.9651 - val_loss: 0.0333 - val_accuracy: 0.9723\n",
      "Epoch 77/100\n",
      "51/51 [==============================] - 0s 5ms/step - loss: 0.0340 - accuracy: 0.9639 - val_loss: 0.0317 - val_accuracy: 0.9723\n",
      "Epoch 78/100\n",
      "51/51 [==============================] - 0s 4ms/step - loss: 0.0377 - accuracy: 0.9626 - val_loss: 0.0311 - val_accuracy: 0.9723\n",
      "Epoch 79/100\n",
      "51/51 [==============================] - 0s 4ms/step - loss: 0.0365 - accuracy: 0.9639 - val_loss: 0.0326 - val_accuracy: 0.9773\n",
      "Epoch 80/100\n",
      "51/51 [==============================] - 0s 4ms/step - loss: 0.0314 - accuracy: 0.9701 - val_loss: 0.0313 - val_accuracy: 0.9798\n",
      "Epoch 81/100\n",
      "51/51 [==============================] - 0s 5ms/step - loss: 0.0319 - accuracy: 0.9701 - val_loss: 0.0270 - val_accuracy: 0.9824\n",
      "Epoch 82/100\n",
      "51/51 [==============================] - 0s 5ms/step - loss: 0.0311 - accuracy: 0.9676 - val_loss: 0.0306 - val_accuracy: 0.9773\n",
      "Epoch 83/100\n",
      "51/51 [==============================] - 0s 5ms/step - loss: 0.0321 - accuracy: 0.9639 - val_loss: 0.0323 - val_accuracy: 0.9773\n",
      "Epoch 84/100\n",
      "51/51 [==============================] - 0s 4ms/step - loss: 0.0315 - accuracy: 0.9751 - val_loss: 0.0274 - val_accuracy: 0.9798\n",
      "Epoch 85/100\n",
      "51/51 [==============================] - 0s 4ms/step - loss: 0.0256 - accuracy: 0.9714 - val_loss: 0.0278 - val_accuracy: 0.9849\n",
      "Epoch 86/100\n",
      "51/51 [==============================] - 0s 4ms/step - loss: 0.0313 - accuracy: 0.9664 - val_loss: 0.0303 - val_accuracy: 0.9773\n",
      "Epoch 87/100\n",
      "51/51 [==============================] - 0s 4ms/step - loss: 0.0265 - accuracy: 0.9801 - val_loss: 0.0277 - val_accuracy: 0.9824\n",
      "Epoch 88/100\n",
      "51/51 [==============================] - 0s 4ms/step - loss: 0.0309 - accuracy: 0.9651 - val_loss: 0.0333 - val_accuracy: 0.9798\n",
      "Epoch 89/100\n",
      "51/51 [==============================] - 0s 4ms/step - loss: 0.0240 - accuracy: 0.9738 - val_loss: 0.0286 - val_accuracy: 0.9773\n",
      "Epoch 90/100\n",
      "51/51 [==============================] - 0s 4ms/step - loss: 0.0256 - accuracy: 0.9701 - val_loss: 0.0288 - val_accuracy: 0.9798\n",
      "Epoch 91/100\n",
      "51/51 [==============================] - 0s 4ms/step - loss: 0.0267 - accuracy: 0.9714 - val_loss: 0.0273 - val_accuracy: 0.9824\n",
      "Epoch 92/100\n",
      "51/51 [==============================] - 0s 4ms/step - loss: 0.0237 - accuracy: 0.9776 - val_loss: 0.0280 - val_accuracy: 0.9748\n",
      "Epoch 93/100\n",
      "51/51 [==============================] - 0s 4ms/step - loss: 0.0237 - accuracy: 0.9763 - val_loss: 0.0283 - val_accuracy: 0.9748\n",
      "Epoch 94/100\n",
      "51/51 [==============================] - 0s 4ms/step - loss: 0.0309 - accuracy: 0.9701 - val_loss: 0.0240 - val_accuracy: 0.9874\n",
      "Epoch 95/100\n",
      "51/51 [==============================] - 0s 4ms/step - loss: 0.0229 - accuracy: 0.9801 - val_loss: 0.0286 - val_accuracy: 0.9798\n",
      "Epoch 96/100\n",
      "51/51 [==============================] - 0s 4ms/step - loss: 0.0247 - accuracy: 0.9714 - val_loss: 0.0277 - val_accuracy: 0.9798\n",
      "Epoch 97/100\n",
      "51/51 [==============================] - 0s 4ms/step - loss: 0.0235 - accuracy: 0.9751 - val_loss: 0.0306 - val_accuracy: 0.9798\n",
      "Epoch 98/100\n",
      "51/51 [==============================] - 0s 4ms/step - loss: 0.0302 - accuracy: 0.9701 - val_loss: 0.0303 - val_accuracy: 0.9773\n",
      "Epoch 99/100\n",
      "51/51 [==============================] - 0s 4ms/step - loss: 0.0316 - accuracy: 0.9701 - val_loss: 0.0303 - val_accuracy: 0.9798\n",
      "Epoch 100/100\n",
      "51/51 [==============================] - 0s 5ms/step - loss: 0.0254 - accuracy: 0.9751 - val_loss: 0.0286 - val_accuracy: 0.9798\n"
     ]
    }
   ],
   "source": [
    "history = Final_Model.fit(X, Y_transformed,validation_split = 0.33, epochs=100, batch_size=16, verbose=1)"
   ]
  },
  {
   "cell_type": "code",
   "execution_count": 906,
   "id": "993778ae",
   "metadata": {},
   "outputs": [
    {
     "data": {
      "text/plain": [
       "<matplotlib.legend.Legend at 0x1fec632aaf0>"
      ]
     },
     "execution_count": 906,
     "metadata": {},
     "output_type": "execute_result"
    },
    {
     "data": {
      "image/png": "[encoded data removed]",
      "text/plain": [
       "<Figure size 432x288 with 1 Axes>"
      ]
     },
     "metadata": {
      "needs_background": "light"
     },
     "output_type": "display_data"
    }
   ],
   "source": [
    "plt.plot(history.history['accuracy'],label='Training')\n",
    "plt.plot(history.history['val_accuracy'],label='Validation')\n",
    "plt.title('Accuracy Across Epochs')\n",
    "plt.legend()\n",
    "plt.show()"
   ]
  },
  {
   "cell_type": "code",
   "execution_count": 907,
   "id": "074adce2",
   "metadata": {},
   "outputs": [
    {
     "data": {
      "text/plain": [
       "<matplotlib.legend.Legend at 0x1fed1705a60>"
      ]
     },
     "execution_count": 907,
     "metadata": {},
     "output_type": "execute_result"
    },
    {
     "data": {
      "image/png": "[encoded data removed]",
      "text/plain": [
       "<Figure size 432x288 with 1 Axes>"
      ]
     },
     "metadata": {
      "needs_background": "light"
     },
     "output_type": "display_data"
    }
   ],
   "source": [
    "plt.plot(history.history['loss'],label='Training')\n",
    "plt.plot(history.history['val_loss'],label='Validation')\n",
    "plt.title('Loss Across Epochs')\n",
    "plt.legend()\n",
    "plt.show()"
   ]
  },
  {
   "cell_type": "code",
   "execution_count": 898,
   "id": "2fd54c1f",
   "metadata": {},
   "outputs": [
    {
     "data": {
      "text/plain": [
       "array([[18,  3,  2,  0,  0,  0],\n",
       "       [ 4, 20,  1,  0,  0,  0],\n",
       "       [ 2,  1,  3,  0,  0,  0],\n",
       "       [ 0,  0,  0,  4,  0,  0],\n",
       "       [ 0,  1,  0,  0,  2,  0],\n",
       "       [ 0,  1,  0,  0,  0,  9]], dtype=int64)"
      ]
     },
     "execution_count": 898,
     "metadata": {},
     "output_type": "execute_result"
    }
   ],
   "source": [
    "preds=Final_Model.predict(X_test)\n",
    "print(\"Confusion Matrix:\\n\",confusion_matrix(y_test,preds))"
   ]
  },
  {
   "cell_type": "code",
   "execution_count": 918,
   "id": "86b6ac61",
   "metadata": {},
   "outputs": [
    {
     "name": "stdout",
     "output_type": "stream",
     "text": [
      "Test Accuracy: 0.7887323943661971\n"
     ]
    }
   ],
   "source": [
    "print(\"Test Accuracy:\",accuracy_score(preds,y_test))"
   ]
  },
  {
   "cell_type": "code",
   "execution_count": 917,
   "id": "fce59633",
   "metadata": {},
   "outputs": [
    {
     "name": "stdout",
     "output_type": "stream",
     "text": [
      "Logistic Regression: 0.6901\n",
      "SVM: 0.7746\n",
      "KNN: 0.7465\n",
      "Decision Tree: 0.7606\n",
      "Random Forest: 0.8592\n",
      "ANN: 0.7887\n"
     ]
    },
    {
     "data": {
      "image/png": "[encoded data removed]",
      "text/plain": [
       "<Figure size 432x288 with 1 Axes>"
      ]
     },
     "metadata": {
      "needs_background": "light"
     },
     "output_type": "display_data"
    }
   ],
   "source": [
    "all_models = list(models.keys())\n",
    "all_models.append('ANN')\n",
    "all_results = list(results)\n",
    "all_results.append(accuracy_score(preds,y_test))\n",
    "print(\"Overall test accuracy\")\n",
    "for i,m in enumerate(all_models):\n",
    "    print(f\"{m}: {round(all_results[i],4)}\")\n",
    "plt.bar(all_models,all_results, align='center',width=0.7)\n",
    "plt.xticks(rotation=45)\n",
    "plt.show()"
   ]
  }
 ],
 "metadata": {
  "kernelspec": {
   "display_name": "Python 3",
   "language": "python",
   "name": "python3"
  },
  "language_info": {
   "codemirror_mode": {
    "name": "ipython",
    "version": 3
   },
   "file_extension": ".py",
   "mimetype": "text/x-python",
   "name": "python",
   "nbconvert_exporter": "python",
   "pygments_lexer": "ipython3",
   "version": "3.8.8"
  }
 },
 "nbformat": 4,
 "nbformat_minor": 5
}
